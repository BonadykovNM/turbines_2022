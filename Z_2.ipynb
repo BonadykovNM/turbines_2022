{
 "cells": [
  {
   "cell_type": "markdown",
   "id": "08ad0dd0",
   "metadata": {},
   "source": [
    " # Домашняя работа №1"
   ]
  },
  {
   "cell_type": "markdown",
   "id": "ba41c098",
   "metadata": {},
   "source": [
    "# Задача №2"
   ]
  },
  {
   "cell_type": "markdown",
   "id": "c418e207",
   "metadata": {},
   "source": [
    "Построить график зависимости термического КПД паротурбинного цикла без промежуточного перегрева пара при следующих параметрах пара:  P0= 5 MPa,  t0= 450 градусов Цельсия,  pk= 5, 10, 15, 20, 50 kPa. Принять давление за последней ступенью паровой турбины  p2=pk. Термический КПД цикла оценивать без учета подогрева воды в питательном насосе и регенеративной системе. "
   ]
  },
  {
   "cell_type": "code",
   "execution_count": 1,
   "id": "0e9248d2",
   "metadata": {},
   "outputs": [],
   "source": [
    "import iapws\n",
    "from iapws import IAPWS97 as gas\n",
    "import matplotlib.pyplot as plt\n",
    "import numpy as np"
   ]
  },
  {
   "cell_type": "code",
   "execution_count": 2,
   "id": "3feca151",
   "metadata": {},
   "outputs": [],
   "source": [
    "MPa = 10 ** 6\n",
    "kPa = 10 ** 3\n",
    "unit = 1 / MPa\n",
    "to_kelvin = lambda x: x + 273.15 if x else None"
   ]
  },
  {
   "cell_type": "code",
   "execution_count": 14,
   "id": "e97586e7",
   "metadata": {},
   "outputs": [],
   "source": [
    "# Начальные параметры:\n",
    "p0 = 5 * MPa\n",
    " \n",
    "t0 = to_kelvin(450)\n",
    "\n",
    "pk =[5, 10, 15, 20, 50]\n",
    "for i in range(len(pk)):\n",
    "    pk[i] = pk[i] * kPa"
   ]
  },
  {
   "cell_type": "code",
   "execution_count": 16,
   "id": "fe1975c6",
   "metadata": {},
   "outputs": [],
   "source": [
    "# Определим точки, которые нам нужны\n",
    "point_condenser_inlet = []\n",
    "point_pump_outlet = []\n",
    "point = (gas(P = p0 * unit, T = t0))\n",
    "for j in range(len(pk)):\n",
    "    point_condenser_inlet.append(gas(P = pk[j] * unit, s = point.s))\n",
    "    point_pump_outlet.append(gas(P = pk[j] * unit, x = 0))"
   ]
  },
  {
   "cell_type": "code",
   "execution_count": 19,
   "id": "0f1a8b6b",
   "metadata": {},
   "outputs": [],
   "source": [
    "useful_energy = []\n",
    "full_energy = []\n",
    "efficiency = []\n",
    "for j in range(len(pk)):\n",
    "    useful_energy.append(point.h - point_condenser_inlet[j].h)\n",
    "    full_energy.append(point.h - point_pump_outlet[j].h)\n",
    "    efficiency.append(round(useful_energy[j]/full_energy[j]*100,3))"
   ]
  },
  {
   "cell_type": "code",
   "execution_count": 27,
   "id": "53f24efe",
   "metadata": {},
   "outputs": [
    {
     "data": {
      "image/png": "[encoded data removed]",
      "text/plain": [
       "<Figure size 640x480 with 1 Axes>"
      ]
     },
     "metadata": {},
     "output_type": "display_data"
    }
   ],
   "source": [
    "y = []\n",
    "x = []\n",
    "for j in range(len(pk)):\n",
    "    y.append(efficiency[j])\n",
    "    x.append(pk[j])\n",
    "    \n",
    "fig, ax = plt.subplots()\n",
    "\n",
    "ax.plot(x, y,)\n",
    "\n",
    "ax.set(xlim = (0 , 55 * kPa), xticks = np.arange(0, 55 * kPa, 5  * kPa, ),\n",
    "        ylim = (30, 46), yticks = np.arange(30, 46, 2,))\n",
    "\n",
    "plt.show()"
   ]
  },
  {
   "cell_type": "code",
   "execution_count": 24,
   "id": "a79efd6c",
   "metadata": {},
   "outputs": [
    {
     "name": "stdout",
     "output_type": "stream",
     "text": [
      "Значение КПД в точке 1 : 38.93 %\n",
      "Значение КПД в точке 2 : 37.014 %\n",
      "Значение КПД в точке 3 : 35.807 %\n",
      "Значение КПД в точке 4 : 34.907 %\n",
      "Значение КПД в точке 5 : 31.766 %\n"
     ]
    }
   ],
   "source": [
    "for j in range(len(pk)):\n",
    "    print(\"Значение КПД в точке\",j+1,\":\",efficiency[j], \"%\" )"
   ]
  },
  {
   "cell_type": "code",
   "execution_count": null,
   "id": "168cd921",
   "metadata": {},
   "outputs": [],
   "source": []
  }
 ],
 "metadata": {
  "kernelspec": {
   "display_name": "Python 3 (ipykernel)",
   "language": "python",
   "name": "python3"
  },
  "language_info": {
   "codemirror_mode": {
    "name": "ipython",
    "version": 3
   },
   "file_extension": ".py",
   "mimetype": "text/x-python",
   "name": "python",
   "nbconvert_exporter": "python",
   "pygments_lexer": "ipython3",
   "version": "3.9.13"
  }
 },
 "nbformat": 4,
 "nbformat_minor": 5
}
