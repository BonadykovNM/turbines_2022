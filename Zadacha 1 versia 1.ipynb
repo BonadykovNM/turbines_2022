{
 "cells": [
  {
   "cell_type": "markdown",
   "id": "c0bfcba7",
   "metadata": {},
   "source": [
    "# Домашняя работа №1"
   ]
  },
  {
   "cell_type": "markdown",
   "id": "7ce0a04b",
   "metadata": {},
   "source": [
    "# Задача №1"
   ]
  },
  {
   "cell_type": "markdown",
   "id": "1eeb400a",
   "metadata": {},
   "source": [
    "    Построить график зависимости термического КПД паротурбинного цикла без промежуточного перегрева пара при следующих параметрах пара:  P0= 5, 10, 15, 20 MPa. Для каждого значения взять следующие значения температуры  t0= 300, 350, 400, 450, 500 градусов Цельсия,  Pk= 5 kPa. Принять давление за последней ступенью паровой турбины  P2=Pk . Термический КПД цикла оценивать без учета подогрева воды в питательном насосе и регенеративной системе."
   ]
  },
  {
   "cell_type": "code",
   "execution_count": 1,
   "id": "0fd5fdb1",
   "metadata": {},
   "outputs": [],
   "source": [
    "    import iapws\n",
    "    from iapws import IAPWS97 as gas\n",
    "    import matplotlib.pyplot as plt\n",
    "    import numpy as np"
   ]
  },
  {
   "cell_type": "code",
   "execution_count": 2,
   "id": "ce42d9b2",
   "metadata": {},
   "outputs": [],
   "source": [
    "MPa = 10 ** 6\n",
    "kPa = 10 ** 3\n",
    "unit = 1 / MPa\n",
    "to_kelvin = lambda x: x + 273.15 if x else None"
   ]
  },
  {
   "cell_type": "code",
   "execution_count": 3,
   "id": "40ff1ba1",
   "metadata": {
    "scrolled": true
   },
   "outputs": [],
   "source": [
    "# Начальные параметры:\n",
    "p0_1 = 5 * MPa\n",
    "p0_2 = 10 * MPa\n",
    "p0_3 = 15 * MPa\n",
    "p0_4 = 20 * MPa\n",
    "\n",
    "t0_1 = to_kelvin(300)\n",
    "t0_2 = to_kelvin(350)\n",
    "t0_3 = to_kelvin(400)\n",
    "t0_4 = to_kelvin(450)\n",
    "\n",
    "pk = 5 * kPa"
   ]
  },
  {
   "cell_type": "code",
   "execution_count": 4,
   "id": "b38d04d2",
   "metadata": {},
   "outputs": [],
   "source": [
    "# Определим точки, которые нам нужны\n",
    "\n",
    "point_0_1 = gas(P=p0_1 * unit, T=t0_1)\n",
    "point_condenser_inlet_1 = gas(P=pk * unit, s=point_0_1.s) # Первая точка\n",
    "point_pump_outlet_1 = gas(P=pk * unit, x=0)\n",
    "\n",
    "point_0_2 = gas(P=p0_2 * unit, T=t0_2)\n",
    "point_condenser_inlet_2 = gas(P=pk * unit, s=point_0_2.s) # Вторая точка\n",
    "point_pump_outlet_2 = gas(P=pk * unit, x=0)\n",
    "\n",
    "point_0_3 = gas(P=p0_3 * unit, T=t0_3)\n",
    "point_condenser_inlet_3 = gas(P=pk * unit, s=point_0_3.s) # Третья точка\n",
    "point_pump_outlet_3 = gas(P=pk * unit, x=0)\n",
    "\n",
    "point_0_4 = gas(P=p0_4 * unit, T=t0_4)\n",
    "point_condenser_inlet_4 = gas(P=pk * unit, s=point_0_4.s) # Четвертая точка\n",
    "point_pump_outlet_4 = gas(P=pk * unit, x=0)"
   ]
  },
  {
   "cell_type": "code",
   "execution_count": 5,
   "id": "15d9823a",
   "metadata": {},
   "outputs": [],
   "source": [
    "useful_energy1 = point_0_1.h - point_condenser_inlet_1.h\n",
    "full_energy1 = point_0_1.h - point_pump_outlet_1.h\n",
    "efficiency1 = useful_energy1 / full_energy1\n",
    "\n",
    "useful_energy2 = point_0_2.h - point_condenser_inlet_2.h\n",
    "full_energy2 = point_0_2.h - point_pump_outlet_2.h\n",
    "efficiency2 = useful_energy2 / full_energy2\n",
    "\n",
    "useful_energy3 = point_0_3.h - point_condenser_inlet_3.h\n",
    "full_energy3 = point_0_3.h - point_pump_outlet_3.h\n",
    "efficiency3 = useful_energy3 / full_energy3\n",
    "\n",
    "useful_energy4 = point_0_4.h - point_condenser_inlet_4.h\n",
    "full_energy4 = point_0_4.h - point_pump_outlet_4.h\n",
    "efficiency4 = useful_energy4 / full_energy4\n"
   ]
  },
  {
   "cell_type": "code",
   "execution_count": 6,
   "id": "7fb10f84",
   "metadata": {},
   "outputs": [
    {
     "data": {
      "image/png": "[encoded data removed]",
      "text/plain": [
       "<Figure size 640x480 with 1 Axes>"
      ]
     },
     "metadata": {},
     "output_type": "display_data"
    }
   ],
   "source": [
    "y = (round(efficiency1 * 100, 3), round(efficiency2 * 100, 3), round(efficiency3 * 100, 3), round(efficiency4 * 100, 3))\n",
    "x = (p0_1, p0_2, p0_3, p0_4)\n",
    "fig, ax = plt.subplots()\n",
    "\n",
    "ax.plot(x, y,)\n",
    "\n",
    "ax.set(xlim=(0 , 30 * MPa), xticks = np.arange(0, 30 * MPa, 5  * MPa, ),\n",
    "        ylim=(0, 50), yticks = np.arange(0, 55, 5,))\n",
    "\n",
    "plt.show()"
   ]
  },
  {
   "cell_type": "code",
   "execution_count": 7,
   "id": "8b7882cb",
   "metadata": {},
   "outputs": [
    {
     "name": "stdout",
     "output_type": "stream",
     "text": [
      "Значение КПД в точке 1: 37.05 %\n",
      "Значение КПД в точке 2: 39.925 %\n",
      "Значение КПД в точке 3: 41.708 %\n",
      "Значение КПД в точке 4: 43.188 %\n"
     ]
    }
   ],
   "source": [
    "print(\"Значение КПД в точке 1:\", round(efficiency1 * 100, 3), \"%\")\n",
    "print(\"Значение КПД в точке 2:\", round(efficiency2 * 100, 3), \"%\")\n",
    "print(\"Значение КПД в точке 3:\", round(efficiency3 * 100, 3), \"%\")\n",
    "print(\"Значение КПД в точке 4:\", round(efficiency4 * 100, 3), \"%\")"
   ]
  },
  {
   "cell_type": "code",
   "execution_count": 8,
   "id": "d69cb0a8",
   "metadata": {},
   "outputs": [
    {
     "data": {
      "image/png": "[encoded data removed]",
      "text/plain": [
       "<Figure size 640x480 with 1 Axes>"
      ]
     },
     "metadata": {},
     "output_type": "display_data"
    }
   ],
   "source": [
    "np.random.seed(3)\n",
    "y = (round(efficiency1 * 100, 3), round(efficiency2 * 100, 3), round(efficiency3 * 100, 3), round(efficiency4 * 100, 3))\n",
    "x = (p0_1, p0_2, p0_3, p0_4)\n",
    "\n",
    "fig, ax = plt.subplots()\n",
    "\n",
    "ax.bar(x, y, width=1 * MPa, edgecolor=\"white\", linewidth=0.7)\n",
    "\n",
    "ax.set(xlim = (0 , 30 * MPa), xticks = np.arange(0, 30 * MPa, 5  * MPa, ),\n",
    "        ylim = (0, 50), yticks = np.arange(0, 55, 5,))\n",
    "\n",
    "plt.show()"
   ]
  }
 ],
 "metadata": {
  "kernelspec": {
   "display_name": "Python 3 (ipykernel)",
   "language": "python",
   "name": "python3"
  },
  "language_info": {
   "codemirror_mode": {
    "name": "ipython",
    "version": 3
   },
   "file_extension": ".py",
   "mimetype": "text/x-python",
   "name": "python",
   "nbconvert_exporter": "python",
   "pygments_lexer": "ipython3",
   "version": "3.9.13"
  },
  "vscode": {
   "interpreter": {
    "hash": "969c4d0b5ace729d64a72c5780db41e9f7e40a10a58a8dfa5103e65bf64276c7"
   }
  }
 },
 "nbformat": 4,
 "nbformat_minor": 5
}
