{
 "cells": [
  {
   "cell_type": "markdown",
   "id": "c0bfcba7",
   "metadata": {},
   "source": [
    "# Домашняя работа №1"
   ]
  },
  {
   "cell_type": "markdown",
   "id": "7ce0a04b",
   "metadata": {},
   "source": [
    "# Задача №1"
   ]
  },
  {
   "cell_type": "markdown",
   "id": "1eeb400a",
   "metadata": {},
   "source": [
    "    Построить график зависимости термического КПД паротурбинного цикла без промежуточного перегрева пара при следующих параметрах пара:  P0= 5, 10, 15, 20 MPa. Для каждого значения взять следующие значения температуры  t0= 300, 350, 400, 450, 500 градусов Цельсия,  Pk= 5 kPa. Принять давление за последней ступенью паровой турбины  P2=Pk . Термический КПД цикла оценивать без учета подогрева воды в питательном насосе и регенеративной системе."
   ]
  },
  {
   "cell_type": "code",
   "execution_count": 1,
   "id": "0fd5fdb1",
   "metadata": {},
   "outputs": [],
   "source": [
    "    import iapws\n",
    "from iapws import IAPWS97 as gas\n",
    "import matplotlib.pyplot as plt\n",
    "import numpy as np"
   ]
  },
  {
   "cell_type": "code",
   "execution_count": 2,
   "id": "ce42d9b2",
   "metadata": {},
   "outputs": [],
   "source": [
    "MPa = 10 ** 6\n",
    "kPa = 10 ** 3\n",
    "unit = 1 / MPa\n",
    "to_kelvin = lambda x: x + 273.15 if x else None"
   ]
  },
  {
   "cell_type": "code",
   "execution_count": 3,
   "id": "40ff1ba1",
   "metadata": {
    "scrolled": true
   },
   "outputs": [
    {
     "name": "stdout",
     "output_type": "stream",
     "text": [
      "[5000000, 10000000, 15000000, 20000000]\n",
      "[573.15, 623.15, 673.15, 723.15]\n"
     ]
    }
   ],
   "source": [
    "# Начальные параметры:\n",
    "p0 = [5, 10, 15, 20]\n",
    "for i in range(len(p0)):\n",
    "    p0[i] = p0[i] * MPa\n",
    "\n",
    "t0 = [300, 350, 400, 450]\n",
    "for j in range(len(t0)):\n",
    "    t0[j] = to_kelvin(t0[j])\n",
    "    \n",
    "\n",
    "pk = 5 * kPa\n",
    "print(p0)\n",
    "print(t0)"
   ]
  },
  {
   "cell_type": "code",
   "execution_count": 4,
   "id": "b38d04d2",
   "metadata": {},
   "outputs": [],
   "source": [
    "# Определим точки, которые нам нужны\n",
    "point = []\n",
    "point_condenser_inlet = []\n",
    "point_pump_outlet = []\n",
    "for j in range(len(p0)):\n",
    "    point.append(gas(P = p0[j] * unit, T = t0[j]))\n",
    "    point_condenser_inlet.append(gas(P = pk * unit, s = point[j].s))\n",
    "    point_pump_outlet.append(gas(P = pk * unit, x = 0))"
   ]
  },
  {
   "cell_type": "code",
   "execution_count": 5,
   "id": "15d9823a",
   "metadata": {},
   "outputs": [],
   "source": [
    "useful_energy = []\n",
    "full_energy = []\n",
    "efficiency = []\n",
    "for j in range(len(p0)):\n",
    "    useful_energy.append(point[j].h - point_condenser_inlet[j].h)\n",
    "    full_energy.append(point[j].h - point_pump_outlet[j].h)\n",
    "    efficiency.append(round(useful_energy[j]/full_energy[j]*100,3))\n"
   ]
  },
  {
   "cell_type": "code",
   "execution_count": 6,
   "id": "7fb10f84",
   "metadata": {},
   "outputs": [
    {
     "data": {
      "image/png": "[encoded data removed]",
      "text/plain": [
       "<Figure size 640x480 with 1 Axes>"
      ]
     },
     "metadata": {},
     "output_type": "display_data"
    }
   ],
   "source": [
    "y = []\n",
    "x = []\n",
    "for j in range(len(p0)):\n",
    "    y.append(efficiency[j])\n",
    "    x.append(p0[j])\n",
    "    \n",
    "fig, ax = plt.subplots()\n",
    "\n",
    "ax.plot(x, y,)\n",
    "\n",
    "ax.set(xlim = (0 , 30 * MPa), xticks = np.arange(0, 30 * MPa, 5  * MPa, ),\n",
    "        ylim = (30, 50), yticks = np.arange(30, 55, 5,))\n",
    "\n",
    "plt.show()"
   ]
  },
  {
   "cell_type": "code",
   "execution_count": 7,
   "id": "8b7882cb",
   "metadata": {
    "scrolled": true
   },
   "outputs": [
    {
     "name": "stdout",
     "output_type": "stream",
     "text": [
      "Значение КПД в точке 1 : 37.05 %\n",
      "Значение КПД в точке 2 : 39.925 %\n",
      "Значение КПД в точке 3 : 41.708 %\n",
      "Значение КПД в точке 4 : 43.188 %\n"
     ]
    }
   ],
   "source": [
    "for j in range(len(p0)):\n",
    "    print(\"Значение КПД в точке\",j+1,\":\",efficiency[j], \"%\" )"
   ]
  },
  {
   "cell_type": "code",
   "execution_count": null,
   "id": "d69cb0a8",
   "metadata": {
    "scrolled": true
   },
   "outputs": [],
   "source": []
  }
 ],
 "metadata": {
  "kernelspec": {
   "display_name": "Python 3 (ipykernel)",
   "language": "python",
   "name": "python3"
  },
  "language_info": {
   "codemirror_mode": {
    "name": "ipython",
    "version": 3
   },
   "file_extension": ".py",
   "mimetype": "text/x-python",
   "name": "python",
   "nbconvert_exporter": "python",
   "pygments_lexer": "ipython3",
   "version": "3.9.13"
  },
  "vscode": {
   "interpreter": {
    "hash": "969c4d0b5ace729d64a72c5780db41e9f7e40a10a58a8dfa5103e65bf64276c7"
   }
  }
 },
 "nbformat": 4,
 "nbformat_minor": 5
}
