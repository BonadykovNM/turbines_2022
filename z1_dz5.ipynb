{
 "cells": [
  {
   "cell_type": "markdown",
   "id": "f4859a27",
   "metadata": {},
   "source": [
    "## Домашняя работа\n",
    "\n",
    "Оценить расходы в цилиндр высокого давления и в конденсатор турбины без промежуточного переграва пара.\n",
    "\n",
    "Заданные параметры:\n",
    "* Номинальная электрическая мощность: 250 МВт\n",
    "* Начальное давление свежего пара: 23.5 МПа\n",
    "* Начальная температура свежено пара: 540 C\n",
    "* Конечное давление пара: 6.9 кПа\n",
    "* Температура питательной воды:  263 C\n",
    "* Число отборов: 8\n",
    "* Механическое КПД: 99.2%\n",
    "* КПД Электрогенератора: 99%"
   ]
  },
  {
   "cell_type": "code",
   "execution_count": 52,
   "id": "c52b4f18",
   "metadata": {},
   "outputs": [],
   "source": [
    "import iapws\n",
    "from iapws import IAPWS97 as gas"
   ]
  },
  {
   "cell_type": "code",
   "execution_count": 53,
   "id": "63e2f1c4",
   "metadata": {},
   "outputs": [],
   "source": [
    "MPa = 10 ** 6\n",
    "kPa = 10 ** 3\n",
    "unit = 1 / MPa\n",
    "to_kelvin = lambda x: x + 273.15 if x else None"
   ]
  },
  {
   "cell_type": "code",
   "execution_count": 54,
   "id": "9819b3a4",
   "metadata": {},
   "outputs": [],
   "source": [
    "electrical_power = 250 * (10 ** 6)\n",
    "p0 = 23.5 * MPa\n",
    "t0 = 540\n",
    "pk = 6.9 * kPa\n",
    "t_feed_water = 263\n",
    "p_feed_water = 1.4 * p0\n",
    "z = 8\n",
    "\n",
    "internal_efficiency = 0.85\n",
    "mechanical_efficiency = 0.992\n",
    "generator_efficiency = 0.99\n",
    "\n",
    "delta_p0 = 0.05 * p0\n",
    "\n",
    "real_p0 = p0 - delta_p0"
   ]
  },
  {
   "cell_type": "code",
   "execution_count": 55,
   "id": "885ad1fb",
   "metadata": {},
   "outputs": [],
   "source": [
    "def find_points(p0, real_p0, t0, pk, p_feed_water, t_feed_water):\n",
    "    point_0t = gas(P=p0*unit, T=to_kelvin(t0))\n",
    "    point_0 = gas(P=real_p0 * unit, h=point_0t.h)\n",
    "    \n",
    "    point_2t = gas(P=pk * unit, s=point_0t.s)\n",
    "\n",
    "    point_k_water = gas(P=pk * unit, x=0)\n",
    "    point_feed_water = gas(P=p_feed_water * unit, T=to_kelvin(t_feed_water))\n",
    "\n",
    "    heat_drop = (point_0t.h - point_2t.h) * internal_efficiency\n",
    "    h_2 = point_0.h - heat_drop\n",
    "    point_2 = gas(P=pk * unit, h=h_2)\n",
    "    \n",
    "    return point_0, point_0t, point_2, point_2t, point_k_water, point_feed_water"
   ]
  },
  {
   "cell_type": "code",
   "execution_count": 56,
   "id": "13e1bb62",
   "metadata": {},
   "outputs": [],
   "source": [
    "def calculate_ksi(point_0, point_0t, point_2, point_2t, point_k_water, point_feed_water, z):\n",
    "    numenator_without = point_2.T * (point_0t.s - point_k_water.s)\n",
    "    denumenator_without = (point_0.h - point_k_water.h)\n",
    "    without_part = 1 - (numenator_without / denumenator_without)\n",
    "    \n",
    "    numenator_infinity = point_2.T * (point_0t.s - point_feed_water.s)\n",
    "    denumenator_infinity = (point_0.h - point_feed_water.h)\n",
    "    infinity_part = 1 - (numenator_infinity / denumenator_infinity)\n",
    "\n",
    "    ksi_infinity = 1 - (without_part / infinity_part)\n",
    "\n",
    "    coeff = (point_feed_water.T - point_2.T) / (to_kelvin(374.2) - point_2.T)\n",
    "    print(\"Значение коэфициетнта\", coeff)\n",
    "    print(\"Число оборотов\", z)\n",
    "    draf = float(input(\"По значению коэфициетта введите значения с графика \"))\n",
    "    ksi = draf * ksi_infinity\n",
    "    return ksi"
   ]
  },
  {
   "cell_type": "code",
   "execution_count": 57,
   "id": "35c305f8",
   "metadata": {},
   "outputs": [],
   "source": [
    "def calculate_estimated_heat_drop(point_0, point_0t, point_2, point_2t, point_k_water, point_feed_water,ksi):\n",
    "    eff_num = (point_0t.h - point_2.h) * internal_efficiency  \n",
    "    eff_denum = (point_0t.h - point_2.h) * internal_efficiency + (point_0.h - point_k_water.h)\n",
    "\n",
    "    efficiency = (eff_num / eff_denum) * (1 / (1 - ksi))\n",
    "\n",
    "    estimated_heat_drop = efficiency * ((point_0.h - point_feed_water.h))\n",
    "    return estimated_heat_drop, efficiency"
   ]
  },
  {
   "cell_type": "code",
   "execution_count": 58,
   "id": "ed0506f6",
   "metadata": {},
   "outputs": [],
   "source": [
    "def calculate_mass_flow(estimated_heat_drop, electrical_power, mechanical_efficiency, generator_efficiency, efficiency):   \n",
    "    inlet_mass_flow = electrical_power / (estimated_heat_drop * 1000 * mechanical_efficiency * generator_efficiency)\n",
    "\n",
    "    condenser_mass_flow = (\n",
    "    electrical_power /\n",
    "    ((point_2.h - point_k_water.h) * 1000 * mechanical_efficiency * generator_efficiency) * ((1 / efficiency) - 1))\n",
    "    \n",
    "    print(\"Массовый расход в турбину на входе\", inlet_mass_flow)\n",
    "    print(\"Массовый расход в конденсатор:\", condenser_mass_flow)"
   ]
  },
  {
   "cell_type": "code",
   "execution_count": 59,
   "id": "d54d8b1b",
   "metadata": {},
   "outputs": [
    {
     "name": "stdout",
     "output_type": "stream",
     "text": [
      "Значение коэфициетнта 0.668521593152601\n",
      "Число оборотов 8\n",
      "По значению коэфициетта введите значения с графика 0.9\n",
      "Массовый расход в турбину на входе 417.79293040104966\n",
      "Массовый расход в конденсатор: 332.66383549506514\n"
     ]
    }
   ],
   "source": [
    "point_0, point_0t, point_2, point_2t, point_k_water, point_feed_water = find_points(p0, real_p0, t0, pk, p_feed_water, t_feed_water)\n",
    "ksi = calculate_ksi(point_0, point_0t, point_2, point_2t, point_k_water, point_feed_water, z)\n",
    "estimated_heat_drop, efficiency = calculate_estimated_heat_drop(point_0, point_0t, point_2, point_2t, point_k_water, point_feed_water,ksi)\n",
    "calculate_mass_flow(estimated_heat_drop, electrical_power, mechanical_efficiency, generator_efficiency, efficiency)\n"
   ]
  },
  {
   "cell_type": "code",
   "execution_count": null,
   "id": "6faaade5",
   "metadata": {},
   "outputs": [],
   "source": []
  },
  {
   "cell_type": "code",
   "execution_count": null,
   "id": "b2ecb96c",
   "metadata": {},
   "outputs": [],
   "source": []
  },
  {
   "cell_type": "code",
   "execution_count": null,
   "id": "921e1d27",
   "metadata": {},
   "outputs": [],
   "source": []
  }
 ],
 "metadata": {
  "kernelspec": {
   "display_name": "Python 3 (ipykernel)",
   "language": "python",
   "name": "python3"
  },
  "language_info": {
   "codemirror_mode": {
    "name": "ipython",
    "version": 3
   },
   "file_extension": ".py",
   "mimetype": "text/x-python",
   "name": "python",
   "nbconvert_exporter": "python",
   "pygments_lexer": "ipython3",
   "version": "3.9.13"
  }
 },
 "nbformat": 4,
 "nbformat_minor": 5
}
