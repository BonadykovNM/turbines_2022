{
 "cells": [
  {
   "cell_type": "markdown",
   "id": "f4859a27",
   "metadata": {},
   "source": [
    "## Домашняя работа\n",
    "\n",
    "Оценить расходы в цилиндр высокого давления и в конденсатор турбины без промежуточного переграва пара.\n",
    "\n",
    "Заданные параметры:\n",
    "* Номинальная электрическая мощность: 250 МВт\n",
    "* Начальное давление свежего пара: 12.8 МПа\n",
    "* Начальная температура свежено пара: 540 C\n",
    "* Конечное давление пара: 6.9 кПа\n",
    "* Температура питательной воды:  263 C\n",
    "* Число отборов: 8\n",
    "* Механическое КПД: 99.2%\n",
    "* КПД Электрогенератора: 99%"
   ]
  },
  {
   "cell_type": "code",
   "execution_count": 1,
   "id": "c52b4f18",
   "metadata": {},
   "outputs": [],
   "source": [
    "import iapws\n",
    "from iapws import IAPWS97 as gas"
   ]
  },
  {
   "cell_type": "code",
   "execution_count": 2,
   "id": "63e2f1c4",
   "metadata": {},
   "outputs": [],
   "source": [
    "MPa = 10 ** 6\n",
    "kPa = 10 ** 3\n",
    "unit = 1 / MPa\n",
    "to_kelvin = lambda x: x + 273.15 if x else None"
   ]
  },
  {
   "cell_type": "code",
   "execution_count": 5,
   "id": "9819b3a4",
   "metadata": {},
   "outputs": [],
   "source": [
    "electrical_power = 250 * (10 ** 6)\n",
    "p0 = 12.8 * MPa\n",
    "t0 = 540\n",
    "p_k = 6.9 * kPa\n",
    "t_feed_water = 263\n",
    "p_feed_water = 1.4 * p0\n",
    "z = 8\n",
    "\n",
    "mechanical_efficiency = 0.992\n",
    "generator_efficiency = 0.99"
   ]
  },
  {
   "cell_type": "code",
   "execution_count": 6,
   "id": "885ad1fb",
   "metadata": {},
   "outputs": [],
   "source": [
    "point_0 = gas(P=p0*unit, T=to_kelvin(t0))\n",
    "point_2 = gas(P=p_k * unit, s=point_0.s)"
   ]
  },
  {
   "cell_type": "code",
   "execution_count": 8,
   "id": "bef85439",
   "metadata": {},
   "outputs": [],
   "source": [
    "point_k_water = gas(P=pk * unit, x=0)\n",
    "point_feed_water = gas(P=p_feed_water * unit, T=to_kelvin(t_feed_water))"
   ]
  },
  {
   "cell_type": "code",
   "execution_count": 9,
   "id": "13e1bb62",
   "metadata": {},
   "outputs": [
    {
     "data": {
      "text/plain": [
       "0.14000220029703958"
      ]
     },
     "execution_count": 9,
     "metadata": {},
     "output_type": "execute_result"
    }
   ],
   "source": [
    "numenator_without = point_2.T * (point_0.s - point_k_water.s)\n",
    "denumenator_without = (point_0.h - point_k_water.h)\n",
    "without_part = 1 - (numenator_without / denumenator_without)\n",
    "\n",
    "\n",
    "numenator_infinity = point_2.T * (point_0.s - point_feed_water.s)\n",
    "denumenator_infinity = (point_0.h - point_feed_water.h)\n",
    "infinity_part = 1 - (numenator_infinity / denumenator_infinity)\n",
    "\n",
    "ksi_infinity = 1 - (without_part / infinity_part)\n",
    "ksi_infinity"
   ]
  },
  {
   "cell_type": "code",
   "execution_count": 10,
   "id": "ccbd1e75",
   "metadata": {},
   "outputs": [
    {
     "data": {
      "text/plain": [
       "0.668521593152601"
      ]
     },
     "execution_count": 10,
     "metadata": {},
     "output_type": "execute_result"
    }
   ],
   "source": [
    "coeff = (point_feed_water.T - point_2.T) / (to_kelvin(374.2) - point_2.T)\n",
    "coeff"
   ]
  },
  {
   "cell_type": "code",
   "execution_count": 32,
   "id": "33c16ae3",
   "metadata": {},
   "outputs": [
    {
     "data": {
      "text/plain": [
       "0.12600198026733564"
      ]
     },
     "execution_count": 32,
     "metadata": {},
     "output_type": "execute_result"
    }
   ],
   "source": [
    "ksi = 0.9 * ksi_infinity\n",
    "ksi"
   ]
  },
  {
   "cell_type": "code",
   "execution_count": 33,
   "id": "35c305f8",
   "metadata": {},
   "outputs": [],
   "source": [
    "eff_num = (point_0.h - point_2.h) \n",
    "eff_denum = (point_0.h - point_2.h) + (point_0.h - point_k_water.h)\n",
    "\n",
    "efficiency = (eff_num / eff_denum) * (1 / (1 - ksi))"
   ]
  },
  {
   "cell_type": "code",
   "execution_count": 34,
   "id": "fd448dc1",
   "metadata": {},
   "outputs": [
    {
     "data": {
      "text/plain": [
       "787.7118759864186"
      ]
     },
     "execution_count": 34,
     "metadata": {},
     "output_type": "execute_result"
    }
   ],
   "source": [
    "estimated_heat_drop = efficiency * ((point_0.h - point_feed_water.h))\n",
    "estimated_heat_drop"
   ]
  },
  {
   "cell_type": "code",
   "execution_count": 35,
   "id": "d6f33936",
   "metadata": {},
   "outputs": [],
   "source": [
    "inlet_mass_flow = electrical_power / (estimated_heat_drop * 1000 * mechanical_efficiency * generator_efficiency)\n"
   ]
  },
  {
   "cell_type": "code",
   "execution_count": 36,
   "id": "ed0506f6",
   "metadata": {},
   "outputs": [],
   "source": [
    "condenser_mass_flow = (\n",
    "    electrical_power /\n",
    "    ((point_2.h - point_k_water.h) * 1000 * mechanical_efficiency * generator_efficiency) * ((1 / efficiency) - 1)\n",
    ")"
   ]
  },
  {
   "cell_type": "code",
   "execution_count": 37,
   "id": "30256f79",
   "metadata": {},
   "outputs": [
    {
     "name": "stdout",
     "output_type": "stream",
     "text": [
      "Массовый расход в турбину на входе 323.1660639601928\n"
     ]
    }
   ],
   "source": [
    "print(\"Массовый расход в турбину на входе\", inlet_mass_flow)"
   ]
  },
  {
   "cell_type": "code",
   "execution_count": 38,
   "id": "d502f8dc",
   "metadata": {},
   "outputs": [
    {
     "name": "stdout",
     "output_type": "stream",
     "text": [
      "Массовый расход в конденсатор: 259.6832094020725\n"
     ]
    }
   ],
   "source": [
    "print(\"Массовый расход в конденсатор:\", condenser_mass_flow)"
   ]
  },
  {
   "cell_type": "code",
   "execution_count": null,
   "id": "b1de276b",
   "metadata": {},
   "outputs": [],
   "source": []
  }
 ],
 "metadata": {
  "kernelspec": {
   "display_name": "Python 3 (ipykernel)",
   "language": "python",
   "name": "python3"
  },
  "language_info": {
   "codemirror_mode": {
    "name": "ipython",
    "version": 3
   },
   "file_extension": ".py",
   "mimetype": "text/x-python",
   "name": "python",
   "nbconvert_exporter": "python",
   "pygments_lexer": "ipython3",
   "version": "3.9.13"
  }
 },
 "nbformat": 4,
 "nbformat_minor": 5
}
