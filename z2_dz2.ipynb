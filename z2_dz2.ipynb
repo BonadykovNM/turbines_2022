{
 "cells": [
  {
   "cell_type": "markdown",
   "id": "89901871",
   "metadata": {},
   "source": [
    "# Задача 2"
   ]
  },
  {
   "cell_type": "markdown",
   "id": "5d8968e5",
   "metadata": {},
   "source": [
    "Написать код для решения задачи оптимизации параметров промежуточного перегрева P_пп и t_пп для свободных начальных параметров p_0,t_0, p_к. Сделаем допущение, что начальная точка процесса расширения всегда находится в зоне перегретого пара. Решение должно выдавать параметры промежуточного перегрева и термический КПД при них."
   ]
  },
  {
   "cell_type": "code",
   "execution_count": 1,
   "id": "ca1dbdb6",
   "metadata": {},
   "outputs": [],
   "source": [
    "import iapws\n",
    "import array\n",
    "from typing import Optional, Tuple, List, Union\n",
    "from iapws import IAPWS97 as gas\n",
    "from scipy.optimize import minimize\n",
    "import numpy as np\n",
    "point_type = iapws.iapws97.IAPWS97"
   ]
  },
  {
   "cell_type": "code",
   "execution_count": 2,
   "id": "bb250787",
   "metadata": {},
   "outputs": [],
   "source": [
    "##Упростим себе жизнь\n",
    "MPa = 10 ** 6\n",
    "kPa = 10 ** 3\n",
    "unit = 1 / MPa\n",
    "to_kelvin = lambda x: x + 273.15 if x else None"
   ]
  },
  {
   "cell_type": "code",
   "execution_count": 3,
   "id": "05335496",
   "metadata": {},
   "outputs": [
    {
     "name": "stdout",
     "output_type": "stream",
     "text": [
      "Введите p_0 13\n",
      "Введите t_0 540\n",
      "Введите p_k 5\n"
     ]
    }
   ],
   "source": [
    "p_0 = float(input(\"Введите p_0 \"))\n",
    "p_0 = p_0 * MPa\n",
    "t_0 = float(input(\"Введите t_0 \"))\n",
    "\n",
    "p_k = float(input(\"Введите p_k \"))\n",
    "p_k = p_k * kPa"
   ]
  },
  {
   "cell_type": "code",
   "execution_count": 7,
   "id": "5f93054b",
   "metadata": {},
   "outputs": [],
   "source": [
    "def check_is_valid_numerical(values: List[Union[None, float]]) -> None:\n",
    "    for value in values:\n",
    "        if value:\n",
    "            if not isinstance(value, (int, float)):\n",
    "                raise ValueError(f\"Argument should be int or float value! Given {type(value)}\")\n",
    "def construct_cycle_points(\n",
    "    p_0: Union[int, float],\n",
    "    p_k: Union[int, float],\n",
    "    p_middle: Union[int, float],\n",
    "    t_0: Optional[Union[int, float]] = None,\n",
    "    t_middle: Optional[Union[int, float]] = None,\n",
    "    x_0: Optional[Union[int, float]] = None,\n",
    ") -> Tuple[point_type, point_type, point_type]:\n",
    "    check_is_valid_numerical([p_0, p_k, p_middle, t_0, t_middle, x_0])\n",
    "    if not t_0 and not x_0:\n",
    "        raise ValueError(\"Neither t_0 not x_0 is not provided for start expansion point!\")\n",
    "    if not (p_0 and p_k):\n",
    "        raise ValueError(\"P_0 and p_k must be specified!\")\n",
    "    if x_0 and (x_0 > 1 or x_0 < 0):\n",
    "        raise ValueError(\"x_0 should be between 0 and 1\")\n",
    "        \n",
    "    point_0_start = gas(P=p_0 * unit, T=t_0)\n",
    "    point_0_end = gas(P=p_middle * unit, s=point_0_start.s)\n",
    "    point_1_start = gas(P=p_middle * unit, T=t_middle)\n",
    "    point_condenser = gas(P=p_k * unit, s=point_1_start.s)\n",
    "    point_pump = gas(P=p_k * unit, x=0)\n",
    "    \n",
    "    return point_0_start, point_0_end, point_1_start, point_condenser, point_pump\n",
    "\n",
    "def compute_cycle_efficiency(point_0_start: point_type, point_0_end: point_type, point_1_start: point_type, point_condenser: point_type, point_pump: point_type) -> float:\n",
    "    useful_energy = (point_0_start.h - point_0_end.h) + (point_1_start.h - point_condenser.h)\n",
    "    full_energy = (point_0_start.h - point_pump.h) + (point_1_start.h - point_0_end.h)\n",
    "    efficiency = round(useful_energy/full_energy*100,3)\n",
    "    return efficiency\n",
    "def solve_exercise(x):\n",
    "    p_middle = x[0]\n",
    "    t_middle = x[1]\n",
    "    point_0_start, point_0_end, point_1_start, point_condenser, point_pump = construct_cycle_points(\n",
    "        p_0=p_0,\n",
    "        p_k=p_k,\n",
    "        p_middle=p_middle,\n",
    "        t_0=to_kelvin(t_0),\n",
    "        t_middle=to_kelvin(t_middle),\n",
    "    ) \n",
    "    efficiency = compute_cycle_efficiency(point_0_start=point_0_start, point_0_end=point_0_end, point_1_start=point_1_start, point_condenser=point_condenser, point_pump=point_pump)\n",
    "    return efficiency"
   ]
  },
  {
   "cell_type": "code",
   "execution_count": 8,
   "id": "64857d06",
   "metadata": {
    "scrolled": false
   },
   "outputs": [],
   "source": [
    "def exp(x):\n",
    "    efficiency = solve_exercise(x)\n",
    "    return 1- efficiency"
   ]
  },
  {
   "cell_type": "code",
   "execution_count": 20,
   "id": "75d0ecb9",
   "metadata": {},
   "outputs": [
    {
     "name": "stdout",
     "output_type": "stream",
     "text": [
      "Давление промперегрева 9.1 MPa Температура промперегрева 378.0 Градусов цельсия\n"
     ]
    }
   ],
   "source": [
    "x = np.array([p_0 * 0.7, t_0 * 0.7 ])\n",
    "bound = [(1, p_0), (1, t_0)]\n",
    "rez = (minimize(exp,x,bounds=bound).x)\n",
    "rez =list(rez)\n",
    "print(\"Давление промперегрева\", rez[0]* unit, \"MPa\" ,\"Температура промперегрева\",rez[1],\"Градусов цельсия\",)"
   ]
  },
  {
   "cell_type": "code",
   "execution_count": null,
   "id": "2cac92ae",
   "metadata": {},
   "outputs": [],
   "source": []
  },
  {
   "cell_type": "code",
   "execution_count": null,
   "id": "bd8cdf70",
   "metadata": {},
   "outputs": [],
   "source": []
  }
 ],
 "metadata": {
  "kernelspec": {
   "display_name": "Python 3 (ipykernel)",
   "language": "python",
   "name": "python3"
  },
  "language_info": {
   "codemirror_mode": {
    "name": "ipython",
    "version": 3
   },
   "file_extension": ".py",
   "mimetype": "text/x-python",
   "name": "python",
   "nbconvert_exporter": "python",
   "pygments_lexer": "ipython3",
   "version": "3.9.13"
  }
 },
 "nbformat": 4,
 "nbformat_minor": 5
}
