{
 "cells": [
  {
   "cell_type": "markdown",
   "id": "89901871",
   "metadata": {},
   "source": [
    "# Задача 2"
   ]
  },
  {
   "cell_type": "markdown",
   "id": "5d8968e5",
   "metadata": {},
   "source": [
    "Написать код для решения задачи оптимизации параметров промежуточного перегрева P_пп и t_пп для свободных начальных параметров p_0,t_0, p_к. Сделаем допущение, что начальная точка процесса расширения всегда находится в зоне перегретого пара. Решение должно выдавать параметры промежуточного перегрева и термический КПД при них."
   ]
  },
  {
   "cell_type": "code",
   "execution_count": 1,
   "id": "ca1dbdb6",
   "metadata": {},
   "outputs": [],
   "source": [
    "import iapws\n",
    "import array\n",
    "from typing import Optional, Tuple, List, Union\n",
    "from iapws import IAPWS97 as gas\n",
    "from scipy.optimize import minimize\n",
    "import numpy as np\n",
    "point_type = iapws.iapws97.IAPWS97"
   ]
  },
  {
   "cell_type": "code",
   "execution_count": 2,
   "id": "bb250787",
   "metadata": {},
   "outputs": [],
   "source": [
    "##Упростим себе жизнь\n",
    "MPa = 10 ** 6\n",
    "kPa = 10 ** 3\n",
    "unit = 1 / MPa\n",
    "to_kelvin = lambda x: x + 273.15 if x else None"
   ]
  },
  {
   "cell_type": "code",
   "execution_count": 3,
   "id": "05335496",
   "metadata": {},
   "outputs": [
    {
     "name": "stdout",
     "output_type": "stream",
     "text": [
      "Введите p_0 10\n",
      "Введите t_0 540\n",
      "Введите p_k 5\n"
     ]
    }
   ],
   "source": [
    "p_0 = float(input(\"Введите p_0 \"))\n",
    "p_0 = p_0 * MPa\n",
    "t_0 = float(input(\"Введите t_0 \"))\n",
    "p_k = (input(\"Введите p_k \"))\n",
    "p_k = p_k * kPa"
   ]
  },
  {
   "cell_type": "code",
   "execution_count": 8,
   "id": "5f93054b",
   "metadata": {},
   "outputs": [],
   "source": [
    "def check_is_valid_numerical(values: List[Union[None, float]]) -> None:\n",
    "    for value in values:\n",
    "        if value:\n",
    "            if not isinstance(value, (int, float)):\n",
    "                raise ValueError(f\"Argument should be int or float value! Given {type(value)}\")\n",
    "def construct_cycle_points(\n",
    "    p_0: Union[int, float],\n",
    "    p_k: Union[int, float],\n",
    "    p_middle: Union[int, float],\n",
    "    t_0: Optional[Union[int, float]] = None,\n",
    "    t_middle: Optional[Union[int, float]] = None,\n",
    "    x_0: Optional[Union[int, float]] = None,\n",
    ") -> Tuple[point_type, point_type, point_type]:\n",
    "    check_is_valid_numerical([p_0, p_k, p_middle, t_0, t_middle, x_0])\n",
    "    if not t_0 and not x_0:\n",
    "        raise ValueError(\"Neither t_0 not x_0 is not provided for start expansion point!\")\n",
    "    if not (p_0 and p_k):\n",
    "        raise ValueError(\"P_0 and p_k must be specified!\")\n",
    "    if x_0 and (x_0 > 1 or x_0 < 0):\n",
    "        raise ValueError(\"x_0 should be between 0 and 1\")\n",
    "        \n",
    "    point_0_start = gas(P=p_0 * unit, T=t_0)\n",
    "    point_0_end = gas(P=p_middle * unit, s=point_0_start.s)\n",
    "    point_1_start = gas(P=p_middle * unit, T=t_middle)\n",
    "    point_condenser = gas(P=p_k * unit, s=point_1_start.s)\n",
    "    point_pump = gas(P=p_k * unit, x=0)\n",
    "    \n",
    "    return point_0_start, point_0_end, point_1_start, point_condenser, point_pump\n",
    "\n",
    "def compute_cycle_efficiency(point_0_start: point_type, point_0_end: point_type, point_1_start: point_type, point_condenser: point_type, point_pump: point_type) -> float:\n",
    "    useful_energy = (point_0_start.h - point_0_end.h) + (point_1_start.h - point_condenser.h)\n",
    "    full_energy = (point_0_start.h - point_pump.h) + (point_1_start.h - point_0_end.h)\n",
    "    efficiency = round(useful_energy/full_energy*100,3)\n",
    "    return efficiency\n",
    "def solve_exercise(\n",
    "    p_0: Union[int, float],\n",
    "    p_k: Union[int, float],\n",
    "    p_middle: Union[int, float],\n",
    "    t_0: Optional[Union[int, float]] = None,\n",
    "    t_middle: Optional[Union[int, float]] = None,\n",
    "    x_0: Optional[Union[int, float]] = None,) -> float:\n",
    "    point_0_start, point_0_end, point_1_start, point_condenser, point_pump = construct_cycle_points(\n",
    "        p_0=p_0,\n",
    "        p_k=p_k,\n",
    "        p_middle=p_middle,\n",
    "        t_0=to_kelvin(t_0),\n",
    "        t_middle=to_kelvin(t_middle),\n",
    "        x_0=x_0\n",
    "    ) \n",
    "    efficiency = compute_cycle_efficiency(point_0_start=point_0_start, point_0_end=point_0_end, point_1_start=point_1_start, point_condenser=point_condenser, point_pump=point_pump)\n",
    "    return efficiency"
   ]
  },
  {
   "cell_type": "code",
   "execution_count": 10,
   "id": "64857d06",
   "metadata": {},
   "outputs": [
    {
     "ename": "TypeError",
     "evalue": "exp() missing 1 required positional argument: 't_middle'",
     "output_type": "error",
     "traceback": [
      "\u001b[1;31m---------------------------------------------------------------------------\u001b[0m",
      "\u001b[1;31mTypeError\u001b[0m                                 Traceback (most recent call last)",
      "Cell \u001b[1;32mIn [10], line 6\u001b[0m\n\u001b[0;32m      3\u001b[0m     \u001b[38;5;28;01mreturn\u001b[39;00m \u001b[38;5;241m1\u001b[39m\u001b[38;5;241m-\u001b[39mefficiency\n\u001b[0;32m      5\u001b[0m pp \u001b[38;5;241m=\u001b[39m np\u001b[38;5;241m.\u001b[39marray([\u001b[38;5;241m10\u001b[39m,\u001b[38;5;241m500\u001b[39m])\n\u001b[1;32m----> 6\u001b[0m rez \u001b[38;5;241m=\u001b[39m \u001b[38;5;28mfloat\u001b[39m(minimize(exp, pp, tol\u001b[38;5;241m=\u001b[39m\u001b[38;5;241m1e-8\u001b[39m)\u001b[38;5;241m.\u001b[39mx)\n\u001b[0;32m      7\u001b[0m rez\n",
      "File \u001b[1;32m~\\Desktop\\turbines\\turbines_2022\\venv\\lib\\site-packages\\scipy\\optimize\\_minimize.py:694\u001b[0m, in \u001b[0;36mminimize\u001b[1;34m(fun, x0, args, method, jac, hess, hessp, bounds, constraints, tol, callback, options)\u001b[0m\n\u001b[0;32m    692\u001b[0m     res \u001b[38;5;241m=\u001b[39m _minimize_cg(fun, x0, args, jac, callback, \u001b[38;5;241m*\u001b[39m\u001b[38;5;241m*\u001b[39moptions)\n\u001b[0;32m    693\u001b[0m \u001b[38;5;28;01melif\u001b[39;00m meth \u001b[38;5;241m==\u001b[39m \u001b[38;5;124m'\u001b[39m\u001b[38;5;124mbfgs\u001b[39m\u001b[38;5;124m'\u001b[39m:\n\u001b[1;32m--> 694\u001b[0m     res \u001b[38;5;241m=\u001b[39m _minimize_bfgs(fun, x0, args, jac, callback, \u001b[38;5;241m*\u001b[39m\u001b[38;5;241m*\u001b[39moptions)\n\u001b[0;32m    695\u001b[0m \u001b[38;5;28;01melif\u001b[39;00m meth \u001b[38;5;241m==\u001b[39m \u001b[38;5;124m'\u001b[39m\u001b[38;5;124mnewton-cg\u001b[39m\u001b[38;5;124m'\u001b[39m:\n\u001b[0;32m    696\u001b[0m     res \u001b[38;5;241m=\u001b[39m _minimize_newtoncg(fun, x0, args, jac, hess, hessp, callback,\n\u001b[0;32m    697\u001b[0m                              \u001b[38;5;241m*\u001b[39m\u001b[38;5;241m*\u001b[39moptions)\n",
      "File \u001b[1;32m~\\Desktop\\turbines\\turbines_2022\\venv\\lib\\site-packages\\scipy\\optimize\\_optimize.py:1283\u001b[0m, in \u001b[0;36m_minimize_bfgs\u001b[1;34m(fun, x0, args, jac, callback, gtol, norm, eps, maxiter, disp, return_all, finite_diff_rel_step, **unknown_options)\u001b[0m\n\u001b[0;32m   1280\u001b[0m \u001b[38;5;28;01mif\u001b[39;00m maxiter \u001b[38;5;129;01mis\u001b[39;00m \u001b[38;5;28;01mNone\u001b[39;00m:\n\u001b[0;32m   1281\u001b[0m     maxiter \u001b[38;5;241m=\u001b[39m \u001b[38;5;28mlen\u001b[39m(x0) \u001b[38;5;241m*\u001b[39m \u001b[38;5;241m200\u001b[39m\n\u001b[1;32m-> 1283\u001b[0m sf \u001b[38;5;241m=\u001b[39m \u001b[43m_prepare_scalar_function\u001b[49m\u001b[43m(\u001b[49m\u001b[43mfun\u001b[49m\u001b[43m,\u001b[49m\u001b[43m \u001b[49m\u001b[43mx0\u001b[49m\u001b[43m,\u001b[49m\u001b[43m \u001b[49m\u001b[43mjac\u001b[49m\u001b[43m,\u001b[49m\u001b[43m \u001b[49m\u001b[43margs\u001b[49m\u001b[38;5;241;43m=\u001b[39;49m\u001b[43margs\u001b[49m\u001b[43m,\u001b[49m\u001b[43m \u001b[49m\u001b[43mepsilon\u001b[49m\u001b[38;5;241;43m=\u001b[39;49m\u001b[43meps\u001b[49m\u001b[43m,\u001b[49m\n\u001b[0;32m   1284\u001b[0m \u001b[43m                              \u001b[49m\u001b[43mfinite_diff_rel_step\u001b[49m\u001b[38;5;241;43m=\u001b[39;49m\u001b[43mfinite_diff_rel_step\u001b[49m\u001b[43m)\u001b[49m\n\u001b[0;32m   1286\u001b[0m f \u001b[38;5;241m=\u001b[39m sf\u001b[38;5;241m.\u001b[39mfun\n\u001b[0;32m   1287\u001b[0m myfprime \u001b[38;5;241m=\u001b[39m sf\u001b[38;5;241m.\u001b[39mgrad\n",
      "File \u001b[1;32m~\\Desktop\\turbines\\turbines_2022\\venv\\lib\\site-packages\\scipy\\optimize\\_optimize.py:263\u001b[0m, in \u001b[0;36m_prepare_scalar_function\u001b[1;34m(fun, x0, jac, args, bounds, epsilon, finite_diff_rel_step, hess)\u001b[0m\n\u001b[0;32m    259\u001b[0m     bounds \u001b[38;5;241m=\u001b[39m (\u001b[38;5;241m-\u001b[39mnp\u001b[38;5;241m.\u001b[39minf, np\u001b[38;5;241m.\u001b[39minf)\n\u001b[0;32m    261\u001b[0m \u001b[38;5;66;03m# ScalarFunction caches. Reuse of fun(x) during grad\u001b[39;00m\n\u001b[0;32m    262\u001b[0m \u001b[38;5;66;03m# calculation reduces overall function evaluations.\u001b[39;00m\n\u001b[1;32m--> 263\u001b[0m sf \u001b[38;5;241m=\u001b[39m \u001b[43mScalarFunction\u001b[49m\u001b[43m(\u001b[49m\u001b[43mfun\u001b[49m\u001b[43m,\u001b[49m\u001b[43m \u001b[49m\u001b[43mx0\u001b[49m\u001b[43m,\u001b[49m\u001b[43m \u001b[49m\u001b[43margs\u001b[49m\u001b[43m,\u001b[49m\u001b[43m \u001b[49m\u001b[43mgrad\u001b[49m\u001b[43m,\u001b[49m\u001b[43m \u001b[49m\u001b[43mhess\u001b[49m\u001b[43m,\u001b[49m\n\u001b[0;32m    264\u001b[0m \u001b[43m                    \u001b[49m\u001b[43mfinite_diff_rel_step\u001b[49m\u001b[43m,\u001b[49m\u001b[43m \u001b[49m\u001b[43mbounds\u001b[49m\u001b[43m,\u001b[49m\u001b[43m \u001b[49m\u001b[43mepsilon\u001b[49m\u001b[38;5;241;43m=\u001b[39;49m\u001b[43mepsilon\u001b[49m\u001b[43m)\u001b[49m\n\u001b[0;32m    266\u001b[0m \u001b[38;5;28;01mreturn\u001b[39;00m sf\n",
      "File \u001b[1;32m~\\Desktop\\turbines\\turbines_2022\\venv\\lib\\site-packages\\scipy\\optimize\\_differentiable_functions.py:158\u001b[0m, in \u001b[0;36mScalarFunction.__init__\u001b[1;34m(self, fun, x0, args, grad, hess, finite_diff_rel_step, finite_diff_bounds, epsilon)\u001b[0m\n\u001b[0;32m    155\u001b[0m     \u001b[38;5;28mself\u001b[39m\u001b[38;5;241m.\u001b[39mf \u001b[38;5;241m=\u001b[39m fun_wrapped(\u001b[38;5;28mself\u001b[39m\u001b[38;5;241m.\u001b[39mx)\n\u001b[0;32m    157\u001b[0m \u001b[38;5;28mself\u001b[39m\u001b[38;5;241m.\u001b[39m_update_fun_impl \u001b[38;5;241m=\u001b[39m update_fun\n\u001b[1;32m--> 158\u001b[0m \u001b[38;5;28;43mself\u001b[39;49m\u001b[38;5;241;43m.\u001b[39;49m\u001b[43m_update_fun\u001b[49m\u001b[43m(\u001b[49m\u001b[43m)\u001b[49m\n\u001b[0;32m    160\u001b[0m \u001b[38;5;66;03m# Gradient evaluation\u001b[39;00m\n\u001b[0;32m    161\u001b[0m \u001b[38;5;28;01mif\u001b[39;00m callable(grad):\n",
      "File \u001b[1;32m~\\Desktop\\turbines\\turbines_2022\\venv\\lib\\site-packages\\scipy\\optimize\\_differentiable_functions.py:251\u001b[0m, in \u001b[0;36mScalarFunction._update_fun\u001b[1;34m(self)\u001b[0m\n\u001b[0;32m    249\u001b[0m \u001b[38;5;28;01mdef\u001b[39;00m \u001b[38;5;21m_update_fun\u001b[39m(\u001b[38;5;28mself\u001b[39m):\n\u001b[0;32m    250\u001b[0m     \u001b[38;5;28;01mif\u001b[39;00m \u001b[38;5;129;01mnot\u001b[39;00m \u001b[38;5;28mself\u001b[39m\u001b[38;5;241m.\u001b[39mf_updated:\n\u001b[1;32m--> 251\u001b[0m         \u001b[38;5;28;43mself\u001b[39;49m\u001b[38;5;241;43m.\u001b[39;49m\u001b[43m_update_fun_impl\u001b[49m\u001b[43m(\u001b[49m\u001b[43m)\u001b[49m\n\u001b[0;32m    252\u001b[0m         \u001b[38;5;28mself\u001b[39m\u001b[38;5;241m.\u001b[39mf_updated \u001b[38;5;241m=\u001b[39m \u001b[38;5;28;01mTrue\u001b[39;00m\n",
      "File \u001b[1;32m~\\Desktop\\turbines\\turbines_2022\\venv\\lib\\site-packages\\scipy\\optimize\\_differentiable_functions.py:155\u001b[0m, in \u001b[0;36mScalarFunction.__init__.<locals>.update_fun\u001b[1;34m()\u001b[0m\n\u001b[0;32m    154\u001b[0m \u001b[38;5;28;01mdef\u001b[39;00m \u001b[38;5;21mupdate_fun\u001b[39m():\n\u001b[1;32m--> 155\u001b[0m     \u001b[38;5;28mself\u001b[39m\u001b[38;5;241m.\u001b[39mf \u001b[38;5;241m=\u001b[39m \u001b[43mfun_wrapped\u001b[49m\u001b[43m(\u001b[49m\u001b[38;5;28;43mself\u001b[39;49m\u001b[38;5;241;43m.\u001b[39;49m\u001b[43mx\u001b[49m\u001b[43m)\u001b[49m\n",
      "File \u001b[1;32m~\\Desktop\\turbines\\turbines_2022\\venv\\lib\\site-packages\\scipy\\optimize\\_differentiable_functions.py:137\u001b[0m, in \u001b[0;36mScalarFunction.__init__.<locals>.fun_wrapped\u001b[1;34m(x)\u001b[0m\n\u001b[0;32m    133\u001b[0m \u001b[38;5;28mself\u001b[39m\u001b[38;5;241m.\u001b[39mnfev \u001b[38;5;241m+\u001b[39m\u001b[38;5;241m=\u001b[39m \u001b[38;5;241m1\u001b[39m\n\u001b[0;32m    134\u001b[0m \u001b[38;5;66;03m# Send a copy because the user may overwrite it.\u001b[39;00m\n\u001b[0;32m    135\u001b[0m \u001b[38;5;66;03m# Overwriting results in undefined behaviour because\u001b[39;00m\n\u001b[0;32m    136\u001b[0m \u001b[38;5;66;03m# fun(self.x) will change self.x, with the two no longer linked.\u001b[39;00m\n\u001b[1;32m--> 137\u001b[0m fx \u001b[38;5;241m=\u001b[39m \u001b[43mfun\u001b[49m\u001b[43m(\u001b[49m\u001b[43mnp\u001b[49m\u001b[38;5;241;43m.\u001b[39;49m\u001b[43mcopy\u001b[49m\u001b[43m(\u001b[49m\u001b[43mx\u001b[49m\u001b[43m)\u001b[49m\u001b[43m,\u001b[49m\u001b[43m \u001b[49m\u001b[38;5;241;43m*\u001b[39;49m\u001b[43margs\u001b[49m\u001b[43m)\u001b[49m\n\u001b[0;32m    138\u001b[0m \u001b[38;5;66;03m# Make sure the function returns a true scalar\u001b[39;00m\n\u001b[0;32m    139\u001b[0m \u001b[38;5;28;01mif\u001b[39;00m \u001b[38;5;129;01mnot\u001b[39;00m np\u001b[38;5;241m.\u001b[39misscalar(fx):\n",
      "\u001b[1;31mTypeError\u001b[0m: exp() missing 1 required positional argument: 't_middle'"
     ]
    }
   ],
   "source": [
    "def exp(p_middle,t_middle):\n",
    "    efficiency = solve_exercise(p_0=p_0,p_k=p_k,p_middle = p_middle,t_0 = t_0,t_middle = t_middle)\n",
    "    return 1-efficiency\n",
    "\n",
    "pp = np.array([10,500])\n",
    "rez = float(minimize(exp, pp, tol=1e-8).x)\n",
    "rez"
   ]
  },
  {
   "cell_type": "code",
   "execution_count": null,
   "id": "75d0ecb9",
   "metadata": {},
   "outputs": [],
   "source": []
  },
  {
   "cell_type": "code",
   "execution_count": null,
   "id": "2cac92ae",
   "metadata": {},
   "outputs": [],
   "source": []
  },
  {
   "cell_type": "code",
   "execution_count": null,
   "id": "bd8cdf70",
   "metadata": {},
   "outputs": [],
   "source": []
  }
 ],
 "metadata": {
  "kernelspec": {
   "display_name": "Python 3 (ipykernel)",
   "language": "python",
   "name": "python3"
  },
  "language_info": {
   "codemirror_mode": {
    "name": "ipython",
    "version": 3
   },
   "file_extension": ".py",
   "mimetype": "text/x-python",
   "name": "python",
   "nbconvert_exporter": "python",
   "pygments_lexer": "ipython3",
   "version": "3.9.13"
  }
 },
 "nbformat": 4,
 "nbformat_minor": 5
}
