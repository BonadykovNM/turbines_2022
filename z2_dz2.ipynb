{
 "cells": [
  {
   "cell_type": "markdown",
   "id": "89901871",
   "metadata": {},
   "source": [
    "# Задача 2"
   ]
  },
  {
   "cell_type": "markdown",
   "id": "5d8968e5",
   "metadata": {},
   "source": [
    "Написать код для решения задачи оптимизации параметров промежуточного перегрева P_пп и t_пп для свободных начальных параметров p_0,t_0, p_к. Сделаем допущение, что начальная точка процесса расширения всегда находится в зоне перегретого пара. Решение должно выдавать параметры промежуточного перегрева и термический КПД при них."
   ]
  },
  {
   "cell_type": "code",
   "execution_count": 1,
   "id": "ca1dbdb6",
   "metadata": {},
   "outputs": [],
   "source": [
    "import iapws\n",
    "import array\n",
    "from typing import Optional, Tuple, List, Union\n",
    "from iapws import IAPWS97 as gas\n",
    "from scipy.optimize import minimize\n",
    "import numpy as np\n",
    "point_type = iapws.iapws97.IAPWS97"
   ]
  },
  {
   "cell_type": "code",
   "execution_count": 2,
   "id": "bb250787",
   "metadata": {},
   "outputs": [],
   "source": [
    "##Упростим себе жизнь\n",
    "MPa = 10 ** 6\n",
    "kPa = 10 ** 3\n",
    "unit = 1 / MPa\n",
    "to_kelvin = lambda x: x + 273.15 if x else None\n"
   ]
  },
  {
   "cell_type": "code",
   "execution_count": 11,
   "id": "5f93054b",
   "metadata": {},
   "outputs": [],
   "source": [
    "def efficiency(middle_point):\n",
    "    p_middle = middle_point[0]\n",
    "    t_middle = middle_point[1]\n",
    "    point_0_start = gas(P=p_0 * unit, T=t_0)\n",
    "    point_0_end = gas(P=p_middle * unit, s=point_0_start.s)\n",
    "    point_1_start = gas(P=p_middle * unit, T=t_middle)\n",
    "    point_condenser = gas(P=p_k * unit, s=point_1_start.s)\n",
    "    point_pump = gas(P=p_k * unit, x=0)\n",
    "    useful_energy = (point_0_start.h - point_0_end.h) + (point_1_start.h - point_condenser.h)\n",
    "    full_energy = (point_0_start.h - point_pump.h) + (point_1_start.h - point_0_end.h)\n",
    "    efficiency = useful_energy / full_energy\n",
    "    return 1 - efficiency\n",
    "    \n"
   ]
  },
  {
   "cell_type": "code",
   "execution_count": 12,
   "id": "64857d06",
   "metadata": {
    "scrolled": false
   },
   "outputs": [],
   "source": [
    "def point(p_0,t_0,p_k):\n",
    "    middle_point = np.array([p_0 * 0.7, t_0 * 0.7 ])\n",
    "    bound = [(1, p_0), (1, t_0)]\n",
    "    rezul = (minimize(efficiency,middle_point,bounds=bound).x)\n",
    "    return rezul"
   ]
  },
  {
   "cell_type": "code",
   "execution_count": 26,
   "id": "2cac92ae",
   "metadata": {},
   "outputs": [
    {
     "name": "stdout",
     "output_type": "stream",
     "text": [
      "Введите p_0 10\n",
      "Введите t_0 500\n",
      "Введите p_k 5\n",
      "Давление промперегрева 7.0 MPa\n",
      "Температура промперегрева 500.0 К\n"
     ]
    }
   ],
   "source": [
    "p_0 = float(input(\"Введите p_0 \"))\n",
    "p_0 = p_0 * MPa\n",
    "t_0 = float(input(\"Введите t_0 \")) \n",
    "p_k = float(input(\"Введите p_k \"))\n",
    "p_k = p_k * kPa\n",
    "rez = (point(p_0,t_0,p_k))\n",
    "p_middle = round(rez[0] * unit,3)\n",
    "t_middle = rez[1]\n",
    "print(\"Давление промперегрева\",p_middle,\"MPa\")\n",
    "print(\"Температура промперегрева\",t_middle,\"К\")\n"
   ]
  },
  {
   "cell_type": "code",
   "execution_count": null,
   "id": "34b169fb",
   "metadata": {},
   "outputs": [],
   "source": []
  },
  {
   "cell_type": "code",
   "execution_count": null,
   "id": "55aebaf5",
   "metadata": {},
   "outputs": [],
   "source": []
  }
 ],
 "metadata": {
  "kernelspec": {
   "display_name": "Python 3 (ipykernel)",
   "language": "python",
   "name": "python3"
  },
  "language_info": {
   "codemirror_mode": {
    "name": "ipython",
    "version": 3
   },
   "file_extension": ".py",
   "mimetype": "text/x-python",
   "name": "python",
   "nbconvert_exporter": "python",
   "pygments_lexer": "ipython3",
   "version": "3.9.13"
  }
 },
 "nbformat": 4,
 "nbformat_minor": 5
}
