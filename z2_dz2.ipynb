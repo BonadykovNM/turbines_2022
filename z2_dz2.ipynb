{
 "cells": [
  {
   "cell_type": "markdown",
   "id": "89901871",
   "metadata": {},
   "source": [
    "# Задача 2"
   ]
  },
  {
   "cell_type": "markdown",
   "id": "5d8968e5",
   "metadata": {},
   "source": [
    "Написать код для решения задачи оптимизации параметров промежуточного перегрева P_пп и t_пп для свободных начальных параметров p_0,t_0, p_к. Сделаем допущение, что начальная точка процесса расширения всегда находится в зоне перегретого пара. Решение должно выдавать параметры промежуточного перегрева и термический КПД при них."
   ]
  },
  {
   "cell_type": "code",
   "execution_count": 9,
   "id": "ca1dbdb6",
   "metadata": {},
   "outputs": [],
   "source": [
    "import iapws\n",
    "import array\n",
    "from typing import Optional, Tuple, List, Union\n",
    "from iapws import IAPWS97 as gas\n",
    "from scipy.optimize import minimize\n",
    "import numpy as np\n",
    "point_type = iapws.iapws97.IAPWS97"
   ]
  },
  {
   "cell_type": "code",
   "execution_count": 10,
   "id": "bb250787",
   "metadata": {},
   "outputs": [],
   "source": [
    "##Упростим себе жизнь\n",
    "MPa = 10 ** 6\n",
    "kPa = 10 ** 3\n",
    "unit = 1 / MPa\n",
    "to_kelvin = lambda x: x + 273.15 if x else None"
   ]
  },
  {
   "cell_type": "code",
   "execution_count": 11,
   "id": "05335496",
   "metadata": {},
   "outputs": [
    {
     "name": "stdout",
     "output_type": "stream",
     "text": [
      "Введите p_0 \n"
     ]
    },
    {
     "ename": "ValueError",
     "evalue": "could not convert string to float: ''",
     "output_type": "error",
     "traceback": [
      "\u001b[1;31m---------------------------------------------------------------------------\u001b[0m",
      "\u001b[1;31mValueError\u001b[0m                                Traceback (most recent call last)",
      "Cell \u001b[1;32mIn [11], line 1\u001b[0m\n\u001b[1;32m----> 1\u001b[0m p_0 \u001b[38;5;241m=\u001b[39m \u001b[38;5;28mfloat\u001b[39m(\u001b[38;5;28minput\u001b[39m(\u001b[38;5;124m\"\u001b[39m\u001b[38;5;124mВведите p_0 \u001b[39m\u001b[38;5;124m\"\u001b[39m))\n\u001b[0;32m      2\u001b[0m p_0 \u001b[38;5;241m=\u001b[39m p_0 \u001b[38;5;241m*\u001b[39m MPa\n\u001b[0;32m      3\u001b[0m t_0 \u001b[38;5;241m=\u001b[39m \u001b[38;5;28mfloat\u001b[39m(\u001b[38;5;28minput\u001b[39m(\u001b[38;5;124m\"\u001b[39m\u001b[38;5;124mВведите t_0 \u001b[39m\u001b[38;5;124m\"\u001b[39m))\n",
      "\u001b[1;31mValueError\u001b[0m: could not convert string to float: ''"
     ]
    }
   ],
   "source": [
    "p_0 = float(input(\"Введите p_0 \"))\n",
    "p_0 = p_0 * MPa\n",
    "t_0 = float(input(\"Введите t_0 \"))\n",
    "p_k = (input(\"Введите p_k \"))\n",
    "p_k = p_k * kPa"
   ]
  },
  {
   "cell_type": "code",
   "execution_count": 12,
   "id": "5f93054b",
   "metadata": {},
   "outputs": [],
   "source": [
    "def check_is_valid_numerical(values: List[Union[None, float]]) -> None:\n",
    "    for value in values:\n",
    "        if value:\n",
    "            if not isinstance(value, (int, float)):\n",
    "                raise ValueError(f\"Argument should be int or float value! Given {type(value)}\")\n",
    "def construct_cycle_points(\n",
    "    p_0: Union[int, float],\n",
    "    p_k: Union[int, float],\n",
    "    p_middle: Union[int, float],\n",
    "    t_0: Optional[Union[int, float]] = None,\n",
    "    t_middle: Optional[Union[int, float]] = None,\n",
    "    x_0: Optional[Union[int, float]] = None,\n",
    ") -> Tuple[point_type, point_type, point_type]:\n",
    "    check_is_valid_numerical([p_0, p_k, p_middle, t_0, t_middle, x_0])\n",
    "    if not t_0 and not x_0:\n",
    "        raise ValueError(\"Neither t_0 not x_0 is not provided for start expansion point!\")\n",
    "    if not (p_0 and p_k):\n",
    "        raise ValueError(\"P_0 and p_k must be specified!\")\n",
    "    if x_0 and (x_0 > 1 or x_0 < 0):\n",
    "        raise ValueError(\"x_0 should be between 0 and 1\")\n",
    "        \n",
    "    point_0_start = gas(P=p_0 * unit, T=t_0)\n",
    "    point_0_end = gas(P=p_middle * unit, s=point_0_start.s)\n",
    "    point_1_start = gas(P=p_middle * unit, T=t_middle)\n",
    "    point_condenser = gas(P=p_k * unit, s=point_1_start.s)\n",
    "    point_pump = gas(P=p_k * unit, x=0)\n",
    "    \n",
    "    return point_0_start, point_0_end, point_1_start, point_condenser, point_pump\n",
    "\n",
    "def compute_cycle_efficiency(point_0_start: point_type, point_0_end: point_type, point_1_start: point_type, point_condenser: point_type, point_pump: point_type) -> float:\n",
    "    useful_energy = (point_0_start.h - point_0_end.h) + (point_1_start.h - point_condenser.h)\n",
    "    full_energy = (point_0_start.h - point_pump.h) + (point_1_start.h - point_0_end.h)\n",
    "    efficiency = round(useful_energy/full_energy*100,3)\n",
    "    return efficiency\n",
    "def solve_exercise(x):\n",
    "    p_middle = x[0]\n",
    "    p_middle = x[1]\n",
    "    point_0_start, point_0_end, point_1_start, point_condenser, point_pump = construct_cycle_points(\n",
    "        p_0=p_0,\n",
    "        p_k=p_k,\n",
    "        p_middle=p_middle,\n",
    "        t_0=to_kelvin(t_0),\n",
    "        t_middle=to_kelvin(t_middle),\n",
    "        x_0=x_0\n",
    "    ) \n",
    "    efficiency = compute_cycle_efficiency(point_0_start=point_0_start, point_0_end=point_0_end, point_1_start=point_1_start, point_condenser=point_condenser, point_pump=point_pump)\n",
    "    return efficiency"
   ]
  },
  {
   "cell_type": "code",
   "execution_count": 13,
   "id": "64857d06",
   "metadata": {
    "scrolled": false
   },
   "outputs": [],
   "source": [
    "def exp(x):\n",
    "    efficiency = solve_exercise(x)\n",
    "    return - efficiency"
   ]
  },
  {
   "cell_type": "code",
   "execution_count": 14,
   "id": "75d0ecb9",
   "metadata": {},
   "outputs": [
    {
     "ename": "ValueError",
     "evalue": "operands could not be broadcast together with remapped shapes [original->remapped]: (2,)  and requested shape (1,)",
     "output_type": "error",
     "traceback": [
      "\u001b[1;31m---------------------------------------------------------------------------\u001b[0m",
      "\u001b[1;31mValueError\u001b[0m                                Traceback (most recent call last)",
      "Cell \u001b[1;32mIn [14], line 3\u001b[0m\n\u001b[0;32m      1\u001b[0m x \u001b[38;5;241m=\u001b[39m np\u001b[38;5;241m.\u001b[39marray([p_0 \u001b[38;5;241m*\u001b[39m \u001b[38;5;241m0.7\u001b[39m, t_0 \u001b[38;5;241m*\u001b[39m \u001b[38;5;241m0.7\u001b[39m ])\n\u001b[0;32m      2\u001b[0m bound \u001b[38;5;241m=\u001b[39m ((\u001b[38;5;241m1\u001b[39m, p_0), (\u001b[38;5;241m1\u001b[39m, t_0))\n\u001b[1;32m----> 3\u001b[0m rez \u001b[38;5;241m=\u001b[39m \u001b[38;5;28mfloat\u001b[39m(minimize(exp,x\u001b[38;5;241m.\u001b[39mall,bounds\u001b[38;5;241m=\u001b[39mbound)\u001b[38;5;241m.\u001b[39mx)\n\u001b[0;32m      4\u001b[0m rez\n",
      "File \u001b[1;32m~\\Desktop\\turbines\\turbines_2022\\venv\\lib\\site-packages\\scipy\\optimize\\_minimize.py:684\u001b[0m, in \u001b[0;36mminimize\u001b[1;34m(fun, x0, args, method, jac, hess, hessp, bounds, constraints, tol, callback, options)\u001b[0m\n\u001b[0;32m    680\u001b[0m                 \u001b[38;5;28;01mif\u001b[39;00m callable(con\u001b[38;5;241m.\u001b[39mget(\u001b[38;5;124m'\u001b[39m\u001b[38;5;124mjac\u001b[39m\u001b[38;5;124m'\u001b[39m, \u001b[38;5;28;01mNone\u001b[39;00m)):\n\u001b[0;32m    681\u001b[0m                     con[\u001b[38;5;124m'\u001b[39m\u001b[38;5;124mjac\u001b[39m\u001b[38;5;124m'\u001b[39m] \u001b[38;5;241m=\u001b[39m _remove_from_func(con[\u001b[38;5;124m'\u001b[39m\u001b[38;5;124mjac\u001b[39m\u001b[38;5;124m'\u001b[39m], i_fixed,\n\u001b[0;32m    682\u001b[0m                                                    x_fixed, min_dim\u001b[38;5;241m=\u001b[39m\u001b[38;5;241m2\u001b[39m,\n\u001b[0;32m    683\u001b[0m                                                    remove\u001b[38;5;241m=\u001b[39m\u001b[38;5;241m1\u001b[39m)\n\u001b[1;32m--> 684\u001b[0m     bounds \u001b[38;5;241m=\u001b[39m \u001b[43mstandardize_bounds\u001b[49m\u001b[43m(\u001b[49m\u001b[43mbounds\u001b[49m\u001b[43m,\u001b[49m\u001b[43m \u001b[49m\u001b[43mx0\u001b[49m\u001b[43m,\u001b[49m\u001b[43m \u001b[49m\u001b[43mmeth\u001b[49m\u001b[43m)\u001b[49m\n\u001b[0;32m    686\u001b[0m \u001b[38;5;28;01mif\u001b[39;00m meth \u001b[38;5;241m==\u001b[39m \u001b[38;5;124m'\u001b[39m\u001b[38;5;124mnelder-mead\u001b[39m\u001b[38;5;124m'\u001b[39m:\n\u001b[0;32m    687\u001b[0m     res \u001b[38;5;241m=\u001b[39m _minimize_neldermead(fun, x0, args, callback, bounds\u001b[38;5;241m=\u001b[39mbounds,\n\u001b[0;32m    688\u001b[0m                                \u001b[38;5;241m*\u001b[39m\u001b[38;5;241m*\u001b[39moptions)\n",
      "File \u001b[1;32m~\\Desktop\\turbines\\turbines_2022\\venv\\lib\\site-packages\\scipy\\optimize\\_minimize.py:947\u001b[0m, in \u001b[0;36mstandardize_bounds\u001b[1;34m(bounds, x0, meth)\u001b[0m\n\u001b[0;32m    945\u001b[0m \u001b[38;5;28;01melif\u001b[39;00m meth \u001b[38;5;129;01min\u001b[39;00m (\u001b[38;5;124m'\u001b[39m\u001b[38;5;124ml-bfgs-b\u001b[39m\u001b[38;5;124m'\u001b[39m, \u001b[38;5;124m'\u001b[39m\u001b[38;5;124mtnc\u001b[39m\u001b[38;5;124m'\u001b[39m, \u001b[38;5;124m'\u001b[39m\u001b[38;5;124mslsqp\u001b[39m\u001b[38;5;124m'\u001b[39m, \u001b[38;5;124m'\u001b[39m\u001b[38;5;124mold\u001b[39m\u001b[38;5;124m'\u001b[39m):\n\u001b[0;32m    946\u001b[0m     \u001b[38;5;28;01mif\u001b[39;00m \u001b[38;5;28misinstance\u001b[39m(bounds, Bounds):\n\u001b[1;32m--> 947\u001b[0m         bounds \u001b[38;5;241m=\u001b[39m \u001b[43mnew_bounds_to_old\u001b[49m\u001b[43m(\u001b[49m\u001b[43mbounds\u001b[49m\u001b[38;5;241;43m.\u001b[39;49m\u001b[43mlb\u001b[49m\u001b[43m,\u001b[49m\u001b[43m \u001b[49m\u001b[43mbounds\u001b[49m\u001b[38;5;241;43m.\u001b[39;49m\u001b[43mub\u001b[49m\u001b[43m,\u001b[49m\u001b[43m \u001b[49m\u001b[43mx0\u001b[49m\u001b[38;5;241;43m.\u001b[39;49m\u001b[43mshape\u001b[49m\u001b[43m[\u001b[49m\u001b[38;5;241;43m0\u001b[39;49m\u001b[43m]\u001b[49m\u001b[43m)\u001b[49m\n\u001b[0;32m    948\u001b[0m \u001b[38;5;28;01mreturn\u001b[39;00m bounds\n",
      "File \u001b[1;32m~\\Desktop\\turbines\\turbines_2022\\venv\\lib\\site-packages\\scipy\\optimize\\_constraints.py:397\u001b[0m, in \u001b[0;36mnew_bounds_to_old\u001b[1;34m(lb, ub, n)\u001b[0m\n\u001b[0;32m    388\u001b[0m \u001b[38;5;28;01mdef\u001b[39;00m \u001b[38;5;21mnew_bounds_to_old\u001b[39m(lb, ub, n):\n\u001b[0;32m    389\u001b[0m     \u001b[38;5;124;03m\"\"\"Convert the new bounds representation to the old one.\u001b[39;00m\n\u001b[0;32m    390\u001b[0m \n\u001b[0;32m    391\u001b[0m \u001b[38;5;124;03m    The new representation is a tuple (lb, ub) and the old one is a list\u001b[39;00m\n\u001b[1;32m   (...)\u001b[0m\n\u001b[0;32m    395\u001b[0m \u001b[38;5;124;03m    None.\u001b[39;00m\n\u001b[0;32m    396\u001b[0m \u001b[38;5;124;03m    \"\"\"\u001b[39;00m\n\u001b[1;32m--> 397\u001b[0m     lb \u001b[38;5;241m=\u001b[39m \u001b[43mnp\u001b[49m\u001b[38;5;241;43m.\u001b[39;49m\u001b[43mbroadcast_to\u001b[49m\u001b[43m(\u001b[49m\u001b[43mlb\u001b[49m\u001b[43m,\u001b[49m\u001b[43m \u001b[49m\u001b[43mn\u001b[49m\u001b[43m)\u001b[49m\n\u001b[0;32m    398\u001b[0m     ub \u001b[38;5;241m=\u001b[39m np\u001b[38;5;241m.\u001b[39mbroadcast_to(ub, n)\n\u001b[0;32m    400\u001b[0m     lb \u001b[38;5;241m=\u001b[39m [\u001b[38;5;28mfloat\u001b[39m(x) \u001b[38;5;28;01mif\u001b[39;00m x \u001b[38;5;241m>\u001b[39m \u001b[38;5;241m-\u001b[39mnp\u001b[38;5;241m.\u001b[39minf \u001b[38;5;28;01melse\u001b[39;00m \u001b[38;5;28;01mNone\u001b[39;00m \u001b[38;5;28;01mfor\u001b[39;00m x \u001b[38;5;129;01min\u001b[39;00m lb]\n",
      "File \u001b[1;32m<__array_function__ internals>:180\u001b[0m, in \u001b[0;36mbroadcast_to\u001b[1;34m(*args, **kwargs)\u001b[0m\n",
      "File \u001b[1;32m~\\Desktop\\turbines\\turbines_2022\\venv\\lib\\site-packages\\numpy\\lib\\stride_tricks.py:413\u001b[0m, in \u001b[0;36mbroadcast_to\u001b[1;34m(array, shape, subok)\u001b[0m\n\u001b[0;32m    367\u001b[0m \u001b[38;5;129m@array_function_dispatch\u001b[39m(_broadcast_to_dispatcher, module\u001b[38;5;241m=\u001b[39m\u001b[38;5;124m'\u001b[39m\u001b[38;5;124mnumpy\u001b[39m\u001b[38;5;124m'\u001b[39m)\n\u001b[0;32m    368\u001b[0m \u001b[38;5;28;01mdef\u001b[39;00m \u001b[38;5;21mbroadcast_to\u001b[39m(array, shape, subok\u001b[38;5;241m=\u001b[39m\u001b[38;5;28;01mFalse\u001b[39;00m):\n\u001b[0;32m    369\u001b[0m     \u001b[38;5;124;03m\"\"\"Broadcast an array to a new shape.\u001b[39;00m\n\u001b[0;32m    370\u001b[0m \n\u001b[0;32m    371\u001b[0m \u001b[38;5;124;03m    Parameters\u001b[39;00m\n\u001b[1;32m   (...)\u001b[0m\n\u001b[0;32m    411\u001b[0m \u001b[38;5;124;03m           [1, 2, 3]])\u001b[39;00m\n\u001b[0;32m    412\u001b[0m \u001b[38;5;124;03m    \"\"\"\u001b[39;00m\n\u001b[1;32m--> 413\u001b[0m     \u001b[38;5;28;01mreturn\u001b[39;00m \u001b[43m_broadcast_to\u001b[49m\u001b[43m(\u001b[49m\u001b[43marray\u001b[49m\u001b[43m,\u001b[49m\u001b[43m \u001b[49m\u001b[43mshape\u001b[49m\u001b[43m,\u001b[49m\u001b[43m \u001b[49m\u001b[43msubok\u001b[49m\u001b[38;5;241;43m=\u001b[39;49m\u001b[43msubok\u001b[49m\u001b[43m,\u001b[49m\u001b[43m \u001b[49m\u001b[43mreadonly\u001b[49m\u001b[38;5;241;43m=\u001b[39;49m\u001b[38;5;28;43;01mTrue\u001b[39;49;00m\u001b[43m)\u001b[49m\n",
      "File \u001b[1;32m~\\Desktop\\turbines\\turbines_2022\\venv\\lib\\site-packages\\numpy\\lib\\stride_tricks.py:349\u001b[0m, in \u001b[0;36m_broadcast_to\u001b[1;34m(array, shape, subok, readonly)\u001b[0m\n\u001b[0;32m    346\u001b[0m     \u001b[38;5;28;01mraise\u001b[39;00m \u001b[38;5;167;01mValueError\u001b[39;00m(\u001b[38;5;124m'\u001b[39m\u001b[38;5;124mall elements of broadcast shape must be non-\u001b[39m\u001b[38;5;124m'\u001b[39m\n\u001b[0;32m    347\u001b[0m                      \u001b[38;5;124m'\u001b[39m\u001b[38;5;124mnegative\u001b[39m\u001b[38;5;124m'\u001b[39m)\n\u001b[0;32m    348\u001b[0m extras \u001b[38;5;241m=\u001b[39m []\n\u001b[1;32m--> 349\u001b[0m it \u001b[38;5;241m=\u001b[39m \u001b[43mnp\u001b[49m\u001b[38;5;241;43m.\u001b[39;49m\u001b[43mnditer\u001b[49m\u001b[43m(\u001b[49m\n\u001b[0;32m    350\u001b[0m \u001b[43m    \u001b[49m\u001b[43m(\u001b[49m\u001b[43marray\u001b[49m\u001b[43m,\u001b[49m\u001b[43m)\u001b[49m\u001b[43m,\u001b[49m\u001b[43m \u001b[49m\u001b[43mflags\u001b[49m\u001b[38;5;241;43m=\u001b[39;49m\u001b[43m[\u001b[49m\u001b[38;5;124;43m'\u001b[39;49m\u001b[38;5;124;43mmulti_index\u001b[39;49m\u001b[38;5;124;43m'\u001b[39;49m\u001b[43m,\u001b[49m\u001b[43m \u001b[49m\u001b[38;5;124;43m'\u001b[39;49m\u001b[38;5;124;43mrefs_ok\u001b[39;49m\u001b[38;5;124;43m'\u001b[39;49m\u001b[43m,\u001b[49m\u001b[43m \u001b[49m\u001b[38;5;124;43m'\u001b[39;49m\u001b[38;5;124;43mzerosize_ok\u001b[39;49m\u001b[38;5;124;43m'\u001b[39;49m\u001b[43m]\u001b[49m\u001b[43m \u001b[49m\u001b[38;5;241;43m+\u001b[39;49m\u001b[43m \u001b[49m\u001b[43mextras\u001b[49m\u001b[43m,\u001b[49m\n\u001b[0;32m    351\u001b[0m \u001b[43m    \u001b[49m\u001b[43mop_flags\u001b[49m\u001b[38;5;241;43m=\u001b[39;49m\u001b[43m[\u001b[49m\u001b[38;5;124;43m'\u001b[39;49m\u001b[38;5;124;43mreadonly\u001b[39;49m\u001b[38;5;124;43m'\u001b[39;49m\u001b[43m]\u001b[49m\u001b[43m,\u001b[49m\u001b[43m \u001b[49m\u001b[43mitershape\u001b[49m\u001b[38;5;241;43m=\u001b[39;49m\u001b[43mshape\u001b[49m\u001b[43m,\u001b[49m\u001b[43m \u001b[49m\u001b[43morder\u001b[49m\u001b[38;5;241;43m=\u001b[39;49m\u001b[38;5;124;43m'\u001b[39;49m\u001b[38;5;124;43mC\u001b[39;49m\u001b[38;5;124;43m'\u001b[39;49m\u001b[43m)\u001b[49m\n\u001b[0;32m    352\u001b[0m \u001b[38;5;28;01mwith\u001b[39;00m it:\n\u001b[0;32m    353\u001b[0m     \u001b[38;5;66;03m# never really has writebackifcopy semantics\u001b[39;00m\n\u001b[0;32m    354\u001b[0m     broadcast \u001b[38;5;241m=\u001b[39m it\u001b[38;5;241m.\u001b[39mitviews[\u001b[38;5;241m0\u001b[39m]\n",
      "\u001b[1;31mValueError\u001b[0m: operands could not be broadcast together with remapped shapes [original->remapped]: (2,)  and requested shape (1,)"
     ]
    }
   ],
   "source": [
    "x = np.array([p_0 * 0.7, t_0 * 0.7 ])\n",
    "bound = ((1, p_0), (1, t_0))\n",
    "rez = float(minimize(exp,x.all,bounds=bound).x)\n",
    "rez"
   ]
  },
  {
   "cell_type": "code",
   "execution_count": null,
   "id": "2cac92ae",
   "metadata": {},
   "outputs": [],
   "source": []
  },
  {
   "cell_type": "code",
   "execution_count": null,
   "id": "bd8cdf70",
   "metadata": {},
   "outputs": [],
   "source": []
  }
 ],
 "metadata": {
  "kernelspec": {
   "display_name": "Python 3 (ipykernel)",
   "language": "python",
   "name": "python3"
  },
  "language_info": {
   "codemirror_mode": {
    "name": "ipython",
    "version": 3
   },
   "file_extension": ".py",
   "mimetype": "text/x-python",
   "name": "python",
   "nbconvert_exporter": "python",
   "pygments_lexer": "ipython3",
   "version": "3.9.13"
  }
 },
 "nbformat": 4,
 "nbformat_minor": 5
}
