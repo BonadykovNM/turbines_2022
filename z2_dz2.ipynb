{
 "cells": [
  {
   "cell_type": "markdown",
   "id": "89901871",
   "metadata": {},
   "source": [
    "# Задача 2"
   ]
  },
  {
   "cell_type": "markdown",
   "id": "5d8968e5",
   "metadata": {},
   "source": [
    "Написать код для решения задачи оптимизации параметров промежуточного перегрева P_пп и t_пп для свободных начальных параметров p_0,t_0, p_к. Сделаем допущение, что начальная точка процесса расширения всегда находится в зоне перегретого пара. Решение должно выдавать параметры промежуточного перегрева и термический КПД при них."
   ]
  },
  {
   "cell_type": "code",
   "execution_count": 2,
   "id": "ca1dbdb6",
   "metadata": {},
   "outputs": [],
   "source": [
    "import iapws\n",
    "from iapws import IAPWS97 as gas"
   ]
  },
  {
   "cell_type": "code",
   "execution_count": 3,
   "id": "bb250787",
   "metadata": {},
   "outputs": [],
   "source": [
    "##Упростим себе жизнь\n",
    "MPa = 10 ** 6\n",
    "kPa = 10 ** 3\n",
    "unit = 1 / MPa\n",
    "to_kelvin = lambda x: x + 273.15 if x else None"
   ]
  },
  {
   "cell_type": "code",
   "execution_count": 4,
   "id": "9ffa8425",
   "metadata": {},
   "outputs": [],
   "source": [
    "from typing import Optional, Tuple, List, Union\n",
    "point_type = iapws.iapws97.IAPWS97\n",
    "def check_is_valid_numerical(values: List[Union[None, float]]) -> None:\n",
    "    for value in values:\n",
    "        if value:\n",
    "            if not isinstance(value, (int, float)):\n",
    "                raise ValueError(f\"Argument should be int or float value! Given {type(value)}\")\n",
    "def construct_cycle_points(\n",
    "    p_0: Union[int, float],\n",
    "    p_k: Union[int, float],\n",
    "    t_0: Optional[Union[int, float]] = None,\n",
    "    x_0: Optional[Union[int, float]] = None, \n",
    ") -> Tuple[point_type, point_type, point_type]:\n",
    "    check_is_valid_numerical([p_0, p_k, t_0, x_0])\n",
    "    if not t_0 and not x_0:\n",
    "        raise ValueError(\"Neither t_0 not x_0 is not provided for start expansion point!\")\n",
    "    if not (p_0 and p_k):\n",
    "        raise ValueError(\"P_0 and p_k must be specified!\")\n",
    "    if x_0 and (x_0 > 1 or x_0 < 0):\n",
    "        raise ValueError(\"x_0 should be between 0 and 1\")\n",
    "        \n",
    "    if t_0:\n",
    "        point_0 = gas(P=p_0, T=t_0)\n",
    "    else:\n",
    "        point_0 = gas(P=p_0, x=x_0)\n",
    "    \n",
    "    p_condenser = gas(P=p_k, s=point_0.s)\n",
    "    p_pump = gas(P=p_k, x=0)\n",
    "    \n",
    "    return point_0, p_condenser, p_pump\n",
    "\n",
    "def compute_cycle_efficiency(p_0: point_type, p_condenser: point_type, p_pump: point_type) -> float:\n",
    "    useful_energy = p_0.h - p_condenser.h\n",
    "    full_energy = p_0.h - p_pump.h\n",
    "    efficiency = useful_energy / full_energy\n",
    "    return efficiency\n",
    "def solve_exercise(\n",
    "    p_0: Union[int, float],\n",
    "    p_k: Union[int, float],\n",
    "    t_0: Optional[Union[int, float]] = None,\n",
    "    x_0: Optional[Union[int, float]] = None,) -> float:\n",
    "    point_0, p_condenser, p_pump = construct_cycle_points(\n",
    "        p_0=p_0 * unit,\n",
    "        p_k=p_k * unit,\n",
    "        t_0=to_kelvin(t_0),\n",
    "        x_0=x_0\n",
    "    )\n",
    "    \n",
    "    efficiency = compute_cycle_efficiency(p_0=point_0, p_condenser=p_condenser, p_pump=p_pump)\n",
    "    \n",
    "    return efficiency"
   ]
  },
  {
   "cell_type": "code",
   "execution_count": null,
   "id": "8cfe76ee",
   "metadata": {},
   "outputs": [],
   "source": []
  },
  {
   "cell_type": "code",
   "execution_count": null,
   "id": "3ae1dde0",
   "metadata": {},
   "outputs": [],
   "source": []
  }
 ],
 "metadata": {
  "kernelspec": {
   "display_name": "Python 3 (ipykernel)",
   "language": "python",
   "name": "python3"
  },
  "language_info": {
   "codemirror_mode": {
    "name": "ipython",
    "version": 3
   },
   "file_extension": ".py",
   "mimetype": "text/x-python",
   "name": "python",
   "nbconvert_exporter": "python",
   "pygments_lexer": "ipython3",
   "version": "3.9.13"
  }
 },
 "nbformat": 4,
 "nbformat_minor": 5
}
